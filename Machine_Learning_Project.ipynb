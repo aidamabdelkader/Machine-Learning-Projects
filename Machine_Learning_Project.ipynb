{
 "cells": [
  {
   "cell_type": "code",
   "execution_count": 1,
   "id": "46dcd41e",
   "metadata": {},
   "outputs": [],
   "source": [
    "import pandas as pd \n",
    "import numpy as np \n",
    "import matplotlib.pyplot as plt\n",
    "import seaborn as sns \n",
    "from scipy import stats\n",
    "import plotly.express as px\n",
    "import plotly.graph_objects as go\n",
    "import re"
   ]
  },
  {
   "cell_type": "code",
   "execution_count": 2,
   "id": "4d029f99",
   "metadata": {},
   "outputs": [],
   "source": [
    "### reading the data set \n",
    "Fraud_Detection_Data = pd.read_csv('PS_20174392719_1491204439457_log.csv', sep = ',')\n"
   ]
  },
  {
   "cell_type": "code",
   "execution_count": 3,
   "id": "3fd1068d",
   "metadata": {},
   "outputs": [
    {
     "name": "stdout",
     "output_type": "stream",
     "text": [
      "<class 'pandas.core.frame.DataFrame'>\n",
      "RangeIndex: 6362620 entries, 0 to 6362619\n",
      "Data columns (total 11 columns):\n",
      " #   Column          Dtype  \n",
      "---  ------          -----  \n",
      " 0   step            int64  \n",
      " 1   type            object \n",
      " 2   amount          float64\n",
      " 3   nameOrig        object \n",
      " 4   oldbalanceOrg   float64\n",
      " 5   newbalanceOrig  float64\n",
      " 6   nameDest        object \n",
      " 7   oldbalanceDest  float64\n",
      " 8   newbalanceDest  float64\n",
      " 9   isFraud         int64  \n",
      " 10  isFlaggedFraud  int64  \n",
      "dtypes: float64(5), int64(3), object(3)\n",
      "memory usage: 534.0+ MB\n"
     ]
    }
   ],
   "source": [
    "Fraud_Detection_Data.info()"
   ]
  },
  {
   "cell_type": "code",
   "execution_count": 4,
   "id": "75017636",
   "metadata": {},
   "outputs": [],
   "source": [
    "def missing_value(df): \n",
    "    null_data = pd.DataFrame((df.isnull().sum())*100/df.shape[0]).reset_index()\n",
    "    null_data.columns = ['Column Name', 'Null Values Percentage']\n",
    "    fig = plt.figure(figsize=(18,6))\n",
    "    ax = sns.pointplot(x=\"Column Name\",y=\"Null Values Percentage\",data=null_data,color='blue')\n",
    "    plt.xticks(rotation =90,fontsize =14)\n",
    "    ax.axhline(40, ls='--',color='red')\n",
    "    plt.title(\"Percentage of Missing values in application data\")\n",
    "    plt.ylabel(\"Null Values PERCENTAGE\")\n",
    "    plt.xlabel(\"COLUMNS\")\n",
    "    plt.show()"
   ]
  },
  {
   "cell_type": "code",
   "execution_count": 5,
   "id": "66bd4b14",
   "metadata": {},
   "outputs": [
    {
     "data": {
      "image/png": "[encoded data removed]",
      "text/plain": [
       "<Figure size 1296x432 with 1 Axes>"
      ]
     },
     "metadata": {
      "needs_background": "light"
     },
     "output_type": "display_data"
    }
   ],
   "source": [
    "missing_value(Fraud_Detection_Data)"
   ]
  },
  {
   "cell_type": "code",
   "execution_count": null,
   "id": "c794a95c",
   "metadata": {},
   "outputs": [],
   "source": []
  },
  {
   "cell_type": "code",
   "execution_count": 6,
   "id": "4cef1051",
   "metadata": {},
   "outputs": [],
   "source": [
    "def plotfunc(df,col,title,hue =None):\n",
    "    \n",
    "    sns.set_style('darkgrid')\n",
    "    sns.set_context('poster')\n",
    "    plt.rcParams[\"axes.labelsize\"] = 20\n",
    "    plt.rcParams['axes.titlesize'] = 22\n",
    "    plt.rcParams['axes.titlepad'] = 30\n",
    "    \n",
    "    \n",
    "    temp = pd.Series(data = hue)\n",
    "    fig, ax = plt.subplots()\n",
    "    width = len(df[col].unique()) + 7 + 4*len(temp.unique())\n",
    "    fig.set_size_inches(width , 8)\n",
    "    plt.xticks(rotation=45)\n",
    "    plt.yscale('log')\n",
    "    plt.title(title)\n",
    "    ax = sns.countplot(data = df, x= col, order=df[col].value_counts().index,hue = hue,palette='bright') \n",
    "        \n",
    "    plt.show()"
   ]
  },
  {
   "cell_type": "code",
   "execution_count": 7,
   "id": "fc9b801b",
   "metadata": {},
   "outputs": [],
   "source": [
    "def category_plotly_plot(df, column_name_1, column_name_2): \n",
    "    fig = px.scatter(df, x=column_name_1, y=column_name_2, color=column_name_1,\n",
    "                     template='plotly_dark', hover_data=[column_name_1])\n",
    "    \n",
    "    fig.show()"
   ]
  },
  {
   "cell_type": "code",
   "execution_count": 9,
   "id": "22c0d12f",
   "metadata": {},
   "outputs": [],
   "source": [
    "#category_plotly_plot(Fraud_Detection_Data,'type', 'amount')"
   ]
  },
  {
   "cell_type": "markdown",
   "id": "f84ae0b0",
   "metadata": {},
   "source": [
    "fig = go.Figure(data=[go.Pie(labels=Fraud_Detection_Data['type'], values=Fraud_Detection_Data['amount'], textinfo='label+percent',\n",
    "                             insidetextorientation='radial'\n",
    "                            )])\n",
    "fig.show()"
   ]
  },
  {
   "cell_type": "code",
   "execution_count": 11,
   "id": "72ad2ffa",
   "metadata": {},
   "outputs": [],
   "source": [
    "def Extract_Customer(df, column_name, list_name):\n",
    "    \"\"\"\n",
    "    Extract keywords from the specified column in the DataFrame.\n",
    "\n",
    "    Parameters:\n",
    "    - df: DataFrame\n",
    "    - column_name: str, the column containing job descriptions \n",
    "    - list_name: list of str, keywords to extract\n",
    "\n",
    "    Returns:\n",
    "    - DataFrame with additional columns for each keyword\n",
    "    \"\"\"\n",
    "    if column_name not in df.columns:\n",
    "        raise ValueError(f\"Column '{column_name}' not found in the DataFrame.\")\n",
    "\n",
    "\n",
    "    # Convert the specified column to lowercase and remove non-alphanumeric characters\n",
    "    df[column_name] = df[column_name].astype(str).str.lower().replace('[^\\w\\s]', '', regex=True)\n",
    "\n",
    "    # Use list comprehension to create binary columns for each keyword\n",
    "    for word in list_name:\n",
    "        df[word] = df[column_name].str.contains(r'\\b' + re.escape(word) + r'\\b', regex=True).astype(int)\n",
    "\n",
    "    return df"
   ]
  },
  {
   "cell_type": "code",
   "execution_count": 12,
   "id": "e35d708c",
   "metadata": {},
   "outputs": [],
   "source": [
    "#Extract_Customer(Fraud_Detection_Data,'nameOrig', ['M','C'])"
   ]
  },
  {
   "cell_type": "markdown",
   "id": "87adcfbe",
   "metadata": {},
   "source": [
    "Fraud_Customer_Count =  df_copy[(df_copy['nameDest_first_letter']=='Customer') & (df_copy['isFraud']==1)].shape[0]\n",
    "Fraud_Count = df_copy[df_copy['isFraud']==1].shape[0]\n",
    "Customer_Percentage_out_of_Fraud = (Fraud_Customer_Count/Fraud_Count) * 100\n",
    "print(f\"Count of Customer Transactions: {f'{Fraud_Customer_Count:,.0f}'}\")\n",
    "print(f\"% of Customer out of fraud Transactions: {f'{Customer_Percentage_out_of_Fraud:,.0f}'}\")\n"
   ]
  },
  {
   "cell_type": "code",
   "execution_count": 14,
   "id": "6e1da92e",
   "metadata": {},
   "outputs": [],
   "source": [
    "df_copy = Fraud_Detection_Data.copy();\n",
    "df_copy['nameDest_first_letter'] = df_copy['nameDest'].str[0]\n",
    "df_copy['nameDest_first_letter'] = df_copy['nameDest_first_letter'].replace('C', 'Customer')\n",
    "df_copy['nameDest_first_letter'] = df_copy['nameDest_first_letter'].replace('M', 'Merchant')"
   ]
  },
  {
   "cell_type": "code",
   "execution_count": null,
   "id": "69fedb55",
   "metadata": {},
   "outputs": [],
   "source": []
  },
  {
   "cell_type": "code",
   "execution_count": 47,
   "id": "2aa2350a",
   "metadata": {},
   "outputs": [],
   "source": [
    "Fraud_Merchant_Count = df_copy[(df_copy['nameDest_first_letter']=='Customer') & (df_copy['isFraud']==1)].shape[0]"
   ]
  },
  {
   "cell_type": "code",
   "execution_count": 48,
   "id": "b5d51e67",
   "metadata": {},
   "outputs": [
    {
     "data": {
      "text/plain": [
       "8213"
      ]
     },
     "execution_count": 48,
     "metadata": {},
     "output_type": "execute_result"
    }
   ],
   "source": [
    "Fraud_Merchant_Count"
   ]
  },
  {
   "cell_type": "code",
   "execution_count": 51,
   "id": "6f7a03f1",
   "metadata": {},
   "outputs": [
    {
     "data": {
      "text/plain": [
       "8213"
      ]
     },
     "execution_count": 51,
     "metadata": {},
     "output_type": "execute_result"
    }
   ],
   "source": [
    "df_copy[(df_copy['nameDest_first_letter']=='Customer') & (df_copy['isFraud']==1)].shape[0]"
   ]
  },
  {
   "cell_type": "code",
   "execution_count": null,
   "id": "15c8c004",
   "metadata": {},
   "outputs": [],
   "source": []
  }
 ],
 "metadata": {
  "kernelspec": {
   "display_name": "Python 3",
   "language": "python",
   "name": "python3"
  },
  "language_info": {
   "codemirror_mode": {
    "name": "ipython",
    "version": 3
   },
   "file_extension": ".py",
   "mimetype": "text/x-python",
   "name": "python",
   "nbconvert_exporter": "python",
   "pygments_lexer": "ipython3",
   "version": "3.8.8"
  }
 },
 "nbformat": 4,
 "nbformat_minor": 5
}
